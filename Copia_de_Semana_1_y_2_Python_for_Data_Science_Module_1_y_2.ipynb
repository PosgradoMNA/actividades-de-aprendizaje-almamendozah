{
  "nbformat": 4,
  "nbformat_minor": 0,
  "metadata": {
    "colab": {
      "provenance": [],
      "include_colab_link": true
    },
    "kernelspec": {
      "name": "python3",
      "display_name": "Python 3"
    },
    "language_info": {
      "name": "python"
    }
  },
  "cells": [
    {
      "cell_type": "markdown",
      "metadata": {
        "id": "view-in-github",
        "colab_type": "text"
      },
      "source": [
        "<a href=\"https://colab.research.google.com/github/PosgradoMNA/actividades-de-aprendizaje-almamendozah/blob/main/Copia_de_Semana_1_y_2_Python_for_Data_Science_Module_1_y_2.ipynb\" target=\"_parent\"><img src=\"https://colab.research.google.com/assets/colab-badge.svg\" alt=\"Open In Colab\"/></a>"
      ]
    },
    {
      "cell_type": "markdown",
      "source": [],
      "metadata": {
        "id": "h2OenMTrGKwa"
      }
    },
    {
      "cell_type": "markdown",
      "source": [
        "Python for Data Science \n",
        "Alma Fabiola Mendoza Huerta\n",
        "Matrícula A00826804"
      ],
      "metadata": {
        "id": "_cuvxg-voz9S"
      }
    },
    {
      "cell_type": "markdown",
      "source": [
        "# **Modulo** **1**"
      ],
      "metadata": {
        "id": "idrLaJDlqBDl"
      }
    },
    {
      "cell_type": "markdown",
      "source": [],
      "metadata": {
        "id": "oGrlL3crGJzp"
      }
    },
    {
      "cell_type": "code",
      "source": [
        "print(\"Hello Python 101\")"
      ],
      "metadata": {
        "colab": {
          "base_uri": "https://localhost:8080/"
        },
        "id": "PF6o6BN2pyHZ",
        "outputId": "c18c1daf-b236-41ac-ab35-c8ba27476368"
      },
      "execution_count": null,
      "outputs": [
        {
          "output_type": "stream",
          "name": "stdout",
          "text": [
            "Hello Python 101\n"
          ]
        }
      ]
    },
    {
      "cell_type": "code",
      "source": [],
      "metadata": {
        "id": "GDDkZzmsGKiW"
      },
      "execution_count": null,
      "outputs": []
    },
    {
      "cell_type": "code",
      "source": [
        "#print Hello Python 101 "
      ],
      "metadata": {
        "id": "_zL6ihvAraK3"
      },
      "execution_count": null,
      "outputs": []
    },
    {
      "cell_type": "markdown",
      "source": [
        "El primer ejemplo es muy sencillo e indica la manera básica como funciona Python. En el caso del ejemplo previo se indica que toda la frase seguida de la palabra Print y lo que se encuentre entre comillas, será arrojado como resultado al momento de seleccionar shift+enter. "
      ],
      "metadata": {
        "id": "hTyMAAliqo7p"
      }
    },
    {
      "cell_type": "code",
      "source": [
        "#El uso del signo de número mantiene todos los caracteres seguidos del signo sin alteración y sirven como notas"
      ],
      "metadata": {
        "id": "2h_IK-21yyMe"
      },
      "execution_count": null,
      "outputs": []
    },
    {
      "cell_type": "markdown",
      "source": [
        "### **Python Types**"
      ],
      "metadata": {
        "id": "Sg0eVuVfsCtS"
      }
    },
    {
      "cell_type": "markdown",
      "source": [
        "Los Types son la manera en la que Python representa los diferentes tipos de información; tanto si son números o palabras.\n",
        "int = Integer, el cual puede ser un número, los cuales puedes ser positivos o negativos y deben de ser números enteros; Float = números reales, los cuales puedes ser números fraccionados; y str= el cual significa string por su palabra en inglés y es una secuancia de caracteres"
      ],
      "metadata": {
        "id": "-xe3f0f4tCnD"
      }
    },
    {
      "cell_type": "code",
      "source": [
        "type(54)"
      ],
      "metadata": {
        "colab": {
          "base_uri": "https://localhost:8080/"
        },
        "id": "k54hwhSbtJRa",
        "outputId": "1eec4831-6f69-46b0-f994-580df53dd803"
      },
      "execution_count": null,
      "outputs": [
        {
          "output_type": "execute_result",
          "data": {
            "text/plain": [
              "int"
            ]
          },
          "metadata": {},
          "execution_count": 5
        }
      ]
    },
    {
      "cell_type": "code",
      "source": [
        "type(3.141592)"
      ],
      "metadata": {
        "colab": {
          "base_uri": "https://localhost:8080/"
        },
        "id": "f1zer7HLv2Bk",
        "outputId": "a52e876e-dea6-4573-cd9c-2902d09c5bb6"
      },
      "execution_count": null,
      "outputs": [
        {
          "output_type": "execute_result",
          "data": {
            "text/plain": [
              "float"
            ]
          },
          "metadata": {},
          "execution_count": 6
        }
      ]
    },
    {
      "cell_type": "code",
      "source": [
        "type(\"Hola, Mundo\")"
      ],
      "metadata": {
        "colab": {
          "base_uri": "https://localhost:8080/"
        },
        "id": "CRC4RXyMxGjS",
        "outputId": "6c765296-036c-4293-e9a6-6ed2f2f17e1b"
      },
      "execution_count": null,
      "outputs": [
        {
          "output_type": "execute_result",
          "data": {
            "text/plain": [
              "str"
            ]
          },
          "metadata": {},
          "execution_count": 8
        }
      ]
    },
    {
      "cell_type": "markdown",
      "source": [
        "String es una secuencia de caracteres que se encuentran dentro de dos comillas y pueden ser números o espacios. o asignar valores de dígitos a lentras. "
      ],
      "metadata": {
        "id": "c0mVtj_Mxaza"
      }
    },
    {
      "cell_type": "code",
      "source": [
        "Name= \"Michael Jackson\"\n",
        "Name[0]"
      ],
      "metadata": {
        "colab": {
          "base_uri": "https://localhost:8080/",
          "height": 36
        },
        "id": "faIe2p2Mx3EM",
        "outputId": "605c3d0e-6451-41c0-aef6-381846513ca4"
      },
      "execution_count": null,
      "outputs": [
        {
          "output_type": "execute_result",
          "data": {
            "text/plain": [
              "'M'"
            ],
            "application/vnd.google.colaboratory.intrinsic+json": {
              "type": "string"
            }
          },
          "metadata": {},
          "execution_count": 9
        }
      ]
    },
    {
      "cell_type": "code",
      "source": [
        "Name[5]"
      ],
      "metadata": {
        "colab": {
          "base_uri": "https://localhost:8080/",
          "height": 36
        },
        "id": "1Dx70GQkyOOD",
        "outputId": "8acb227d-b7b0-4317-c660-7e904ff049bc"
      },
      "execution_count": null,
      "outputs": [
        {
          "output_type": "execute_result",
          "data": {
            "text/plain": [
              "'e'"
            ],
            "application/vnd.google.colaboratory.intrinsic+json": {
              "type": "string"
            }
          },
          "metadata": {},
          "execution_count": 11
        }
      ]
    },
    {
      "cell_type": "code",
      "source": [
        "Name[0:4]"
      ],
      "metadata": {
        "colab": {
          "base_uri": "https://localhost:8080/",
          "height": 36
        },
        "id": "4HqelBPsyVax",
        "outputId": "66388a9c-2215-47d8-f114-2bdfcb417139"
      },
      "execution_count": null,
      "outputs": [
        {
          "output_type": "execute_result",
          "data": {
            "text/plain": [
              "'Mich'"
            ],
            "application/vnd.google.colaboratory.intrinsic+json": {
              "type": "string"
            }
          },
          "metadata": {},
          "execution_count": 13
        }
      ]
    },
    {
      "cell_type": "code",
      "source": [
        "Name[::3] #los dos puntos (2 pares) sirven para arrojar los datos que estan separados cada 3 caracteres"
      ],
      "metadata": {
        "colab": {
          "base_uri": "https://localhost:8080/",
          "height": 36
        },
        "id": "IcBKHoyjygLp",
        "outputId": "ccc0a361-b0d8-44f9-c41d-c4a3bbe7daf7"
      },
      "execution_count": null,
      "outputs": [
        {
          "output_type": "execute_result",
          "data": {
            "text/plain": [
              "'Mhlas'"
            ],
            "application/vnd.google.colaboratory.intrinsic+json": {
              "type": "string"
            }
          },
          "metadata": {},
          "execution_count": 19
        }
      ]
    },
    {
      "cell_type": "code",
      "source": [
        "print(\"Michale Jackson\\n is the best\")"
      ],
      "metadata": {
        "colab": {
          "base_uri": "https://localhost:8080/"
        },
        "id": "b_D4Yl8szILF",
        "outputId": "cc4c8338-f481-406b-8df7-19b11523e9af"
      },
      "execution_count": null,
      "outputs": [
        {
          "output_type": "stream",
          "name": "stdout",
          "text": [
            "Michale Jackson\n",
            " is the best\n"
          ]
        }
      ]
    },
    {
      "cell_type": "code",
      "source": [
        "print(\"Michael Jackson\\t is the best\")"
      ],
      "metadata": {
        "colab": {
          "base_uri": "https://localhost:8080/"
        },
        "id": "Jdp_nhsezxmx",
        "outputId": "350b34b7-eb88-4b7c-908c-3260fe38fc15"
      },
      "execution_count": null,
      "outputs": [
        {
          "output_type": "stream",
          "name": "stdout",
          "text": [
            "Michael Jackson\t is the best\n"
          ]
        }
      ]
    },
    {
      "cell_type": "code",
      "source": [
        "A=(\"Thriller is the sixth studio album\")"
      ],
      "metadata": {
        "id": "IE_0jz5T0ga9"
      },
      "execution_count": null,
      "outputs": []
    },
    {
      "cell_type": "code",
      "source": [
        "B=A.upper()"
      ],
      "metadata": {
        "id": "8WgQ242c1ILH"
      },
      "execution_count": null,
      "outputs": []
    },
    {
      "cell_type": "markdown",
      "source": [
        "# **Modulo 2**"
      ],
      "metadata": {
        "id": "97QoyxKq20cF"
      }
    },
    {
      "cell_type": "code",
      "source": [
        "Tuple1=(\"Canción\",4,3.25)"
      ],
      "metadata": {
        "id": "T8pli8Q07MNi"
      },
      "execution_count": null,
      "outputs": []
    },
    {
      "cell_type": "code",
      "source": [
        "Tuple1[1]"
      ],
      "metadata": {
        "colab": {
          "base_uri": "https://localhost:8080/"
        },
        "id": "9NONujW37bhO",
        "outputId": "097e5b73-5146-4a24-a1de-b2af057e96dd"
      },
      "execution_count": null,
      "outputs": [
        {
          "output_type": "execute_result",
          "data": {
            "text/plain": [
              "4"
            ]
          },
          "metadata": {},
          "execution_count": 43
        }
      ]
    },
    {
      "cell_type": "code",
      "source": [
        "Tuple1[2]"
      ],
      "metadata": {
        "colab": {
          "base_uri": "https://localhost:8080/"
        },
        "id": "WQGMriqv7ln9",
        "outputId": "7b5b20b1-e500-4e5d-c069-b369e207b267"
      },
      "execution_count": null,
      "outputs": [
        {
          "output_type": "execute_result",
          "data": {
            "text/plain": [
              "3.25"
            ]
          },
          "metadata": {},
          "execution_count": 44
        }
      ]
    },
    {
      "cell_type": "code",
      "source": [
        "Tuple1[0]"
      ],
      "metadata": {
        "colab": {
          "base_uri": "https://localhost:8080/",
          "height": 36
        },
        "id": "RK_hSr7q7yw0",
        "outputId": "9bedb6dd-11dd-48f1-9469-4e266b122fdd"
      },
      "execution_count": null,
      "outputs": [
        {
          "output_type": "execute_result",
          "data": {
            "text/plain": [
              "'Canción'"
            ],
            "application/vnd.google.colaboratory.intrinsic+json": {
              "type": "string"
            }
          },
          "metadata": {},
          "execution_count": 45
        }
      ]
    },
    {
      "cell_type": "code",
      "source": [
        "Los Tuples no se pueden cambiar"
      ],
      "metadata": {
        "id": "hWdOQuWt70y0"
      },
      "execution_count": null,
      "outputs": []
    },
    {
      "cell_type": "code",
      "source": [
        "Ratings=(10,9,6,5,10,8,9,6,2)"
      ],
      "metadata": {
        "id": "-whozRv58Q79"
      },
      "execution_count": null,
      "outputs": []
    },
    {
      "cell_type": "code",
      "source": [
        "RatingsSorted=sorted(Ratings)"
      ],
      "metadata": {
        "id": "U4bKytX78ZAM"
      },
      "execution_count": null,
      "outputs": []
    },
    {
      "cell_type": "code",
      "source": [
        "L=[\"Michael Jackson\",10.1,1982]"
      ],
      "metadata": {
        "id": "1-K6xokT8b3l"
      },
      "execution_count": null,
      "outputs": []
    },
    {
      "cell_type": "code",
      "source": [
        "L[0]"
      ],
      "metadata": {
        "colab": {
          "base_uri": "https://localhost:8080/",
          "height": 36
        },
        "id": "kcv-OLvI8-_U",
        "outputId": "adc8b18f-bb87-4cdd-8e5d-9ce890faa45e"
      },
      "execution_count": null,
      "outputs": [
        {
          "output_type": "execute_result",
          "data": {
            "text/plain": [
              "'Michael Jackson'"
            ],
            "application/vnd.google.colaboratory.intrinsic+json": {
              "type": "string"
            }
          },
          "metadata": {},
          "execution_count": 49
        }
      ]
    },
    {
      "cell_type": "code",
      "source": [
        "L[2]"
      ],
      "metadata": {
        "colab": {
          "base_uri": "https://localhost:8080/"
        },
        "id": "m7rbsG6a9CP0",
        "outputId": "a1e5c505-f621-4e80-f24c-7b6cd2cde3b0"
      },
      "execution_count": null,
      "outputs": [
        {
          "output_type": "execute_result",
          "data": {
            "text/plain": [
              "1982"
            ]
          },
          "metadata": {},
          "execution_count": 50
        }
      ]
    },
    {
      "cell_type": "code",
      "source": [
        "A:[\"hard rock\",10,1.2]"
      ],
      "metadata": {
        "id": "Ooi0Jg6l9ENk"
      },
      "execution_count": null,
      "outputs": []
    },
    {
      "cell_type": "code",
      "source": [
        "del(A[1])"
      ],
      "metadata": {
        "id": "hGMFrmHb9gCj"
      },
      "execution_count": null,
      "outputs": []
    },
    {
      "cell_type": "code",
      "source": [
        "\"A,B,C,D\".split(\",\")"
      ],
      "metadata": {
        "colab": {
          "base_uri": "https://localhost:8080/"
        },
        "id": "c9BdCRZW9xVD",
        "outputId": "b6529648-1756-4bf6-8a8b-5a3bcb11e878"
      },
      "execution_count": null,
      "outputs": [
        {
          "output_type": "execute_result",
          "data": {
            "text/plain": [
              "['A', 'B', 'C', 'D']"
            ]
          },
          "metadata": {},
          "execution_count": 59
        }
      ]
    },
    {
      "cell_type": "code",
      "source": [
        "Los sets son tipos de coleccciones en donde se pueden agregar algunos tipos de python y tiene elementos únicos. "
      ],
      "metadata": {
        "id": "ECMGRtjy-H6s"
      },
      "execution_count": null,
      "outputs": []
    },
    {
      "cell_type": "code",
      "source": [
        "album_list=[\"Michael Jackson\",\"Thriler\",\"Thriller\",\"1982\"]"
      ],
      "metadata": {
        "id": "g0WtTdWT-zVp"
      },
      "execution_count": null,
      "outputs": []
    },
    {
      "cell_type": "code",
      "source": [
        "album_set=set(album_list)"
      ],
      "metadata": {
        "id": "Yl_dQuyj_OjR"
      },
      "execution_count": null,
      "outputs": []
    }
  ]
}